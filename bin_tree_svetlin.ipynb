{
 "cells": [
  {
   "cell_type": "code",
   "execution_count": 1,
   "metadata": {},
   "outputs": [],
   "source": [
    "import numpy as np"
   ]
  },
  {
   "cell_type": "markdown",
   "metadata": {},
   "source": [
    "### Question 1"
   ]
  },
  {
   "cell_type": "markdown",
   "metadata": {},
   "source": [
    "a) The maximum price of the stock would be 100 + 20 = 120."
   ]
  },
  {
   "cell_type": "markdown",
   "metadata": {},
   "source": [
    "b) The minimum price of the stock would be 100 - 20 = 80."
   ]
  },
  {
   "cell_type": "markdown",
   "metadata": {},
   "source": [
    "c) sigma_t = 1/X_t"
   ]
  },
  {
   "cell_type": "markdown",
   "metadata": {},
   "source": [
    "d) When price goes up, volatility decreases. That makes sense bacause if the price is really high, then a price change of 1 would be smaller in percentage terms, therefore the volatility would be smaller."
   ]
  },
  {
   "cell_type": "markdown",
   "metadata": {},
   "source": [
    "### Question 2"
   ]
  },
  {
   "cell_type": "markdown",
   "metadata": {},
   "source": [
    "a) The binomial tree is symmetrical around 100, therefore a call option with strike price 100 + x would be the same price as the put option with price 100 - x. Thus, 120 call would be the same price as 80 put. "
   ]
  },
  {
   "cell_type": "code",
   "execution_count": 2,
   "metadata": {},
   "outputs": [],
   "source": [
    "# Test values \n",
    "S0 = 100\n",
    "K = 100\n",
    "t = 20\n",
    "option_type = \"C\""
   ]
  },
  {
   "cell_type": "code",
   "execution_count": 3,
   "metadata": {},
   "outputs": [],
   "source": [
    "def binomial_tree(K, S0, t, option_type = \"C\"):\n",
    "    q = 0.5\n",
    "    # initiate asset prices at maturity\n",
    "    C = np.arange(S0 - t, S0 + t + 1, 2)\n",
    "\n",
    "    # initiate option values at maturity\n",
    "    if option_type == 'C':\n",
    "        C = np.maximum(C - K, np.zeros(t+1))\n",
    "    elif option_type == 'P':\n",
    "        C = np.maximum(K - C, np.zeros(t+1))\n",
    "\n",
    "    # go back in the tree\n",
    "    for i in np.arange(t, 0, -1):\n",
    "        C = (q * C[1:i+1] + (1-q) * C[0:i])\n",
    "\n",
    "    return C[0]"
   ]
  },
  {
   "cell_type": "code",
   "execution_count": 7,
   "metadata": {},
   "outputs": [
    {
     "name": "stdout",
     "output_type": "stream",
     "text": [
      "The price of the 80-put option is 0.0\n",
      "The price of the 85-put option is 0.00024318695068359375\n",
      "The price of the 90-put option is 0.01483917236328125\n",
      "The price of the 95-put option is 0.3031349182128906\n",
      "The price of the 100-put option is 1.7619705200195312\n",
      "The price of the 100-call option is 1.7619705200195312\n",
      "The price of the 105-call option is 0.3031349182128906\n",
      "The price of the 110-call option is 0.01483917236328125\n",
      "The price of the 115-call option is 0.00024318695068359375\n",
      "The price of the 120-call option is 0.0\n"
     ]
    }
   ],
   "source": [
    "for K in [80, 85, 90, 95, 100]:\n",
    "    put_option_price = binomial_tree(K, 100, 20, \"P\")\n",
    "    print(f\"The price of the {K}-put option is {put_option_price}\")\n",
    "for K in [100, 105, 110, 115, 120]:\n",
    "    call_option_price = binomial_tree(K, 100, 20, \"C\")\n",
    "    print(f\"The price of the {K}-call option is {call_option_price}\")\n"
   ]
  },
  {
   "cell_type": "markdown",
   "metadata": {},
   "source": [
    "### Question 4"
   ]
  },
  {
   "cell_type": "markdown",
   "metadata": {},
   "source": [
    "b) Given that in put-call parity the strike price of the put and call should be the same, I assume put-call parity is not holding for K=100 (while it should)"
   ]
  }
 ],
 "metadata": {
  "kernelspec": {
   "display_name": "Python 3",
   "language": "python",
   "name": "python3"
  },
  "language_info": {
   "codemirror_mode": {
    "name": "ipython",
    "version": 3
   },
   "file_extension": ".py",
   "mimetype": "text/x-python",
   "name": "python",
   "nbconvert_exporter": "python",
   "pygments_lexer": "ipython3",
   "version": "3.11.2"
  }
 },
 "nbformat": 4,
 "nbformat_minor": 2
}
